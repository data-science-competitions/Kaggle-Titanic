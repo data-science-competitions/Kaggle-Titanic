{
 "cells": [
  {
   "cell_type": "code",
   "execution_count": 254,
   "metadata": {},
   "outputs": [],
   "source": [
    "import numpy as np\n",
    "import pandas as pd"
   ]
  },
  {
   "cell_type": "code",
   "execution_count": 255,
   "metadata": {},
   "outputs": [],
   "source": [
    "from IPython.display import IFrame, display"
   ]
  },
  {
   "cell_type": "markdown",
   "metadata": {},
   "source": [
    "# Python Basics: strings, lists"
   ]
  },
  {
   "cell_type": "markdown",
   "metadata": {},
   "source": [
    "## Strings"
   ]
  },
  {
   "cell_type": "code",
   "execution_count": 256,
   "metadata": {},
   "outputs": [],
   "source": [
    "name = \"Barack Obama\"\n",
    "poem = \"\"\"\n",
    "And what is love? It is a doll dressed up\n",
    "   For idleness to cosset, nurse, and dandle;\n",
    "A thing of soft misnomers, so divine\n",
    "That silly youth doth think to make itself\n",
    "Divine by loving, and so goes on\n",
    "Yawning and doting a whole summer long,\n",
    "Till Miss's comb is made a perfect tiara,\n",
    "And common Wellingtons turn Romeo boots;\n",
    "Till Cleopatra lives at Number Seven,\n",
    "And Antony resides in Brunswick Square.\n",
    "\"\"\""
   ]
  },
  {
   "cell_type": "code",
   "execution_count": 257,
   "metadata": {},
   "outputs": [
    {
     "data": {
      "text/plain": [
       "12"
      ]
     },
     "execution_count": 257,
     "output_type": "execute_result",
     "metadata": {}
    }
   ],
   "source": [
    "# We can see the length of a string\n",
    "len(name)"
   ]
  },
  {
   "cell_type": "code",
   "execution_count": 258,
   "metadata": {},
   "outputs": [
    {
     "metadata": {}
    },
    {
     "metadata": {}
    }
   ],
   "source": [
    "# We can index into it \n",
    "display(name[0]) # First Character\n",
    "display(name[-1]) # Last Character"
   ]
  },
  {
   "cell_type": "code",
   "execution_count": 259,
   "metadata": {},
   "outputs": [
    {
     "name": "stdout",
     "output_type": "stream",
     "text": [
      "B\n",
      "a\n",
      "r\n",
      "a\n",
      "c\n",
      "k\n",
      " \n",
      "O\n",
      "b\n",
      "a\n",
      "m\n",
      "a\n"
     ]
    }
   ],
   "source": [
    "# We can iterate over characters (* code-points)\n",
    "for c in name:\n",
    "    print(c)"
   ]
  },
  {
   "cell_type": "code",
   "execution_count": 260,
   "metadata": {},
   "outputs": [
    {
     "metadata": {}
    },
    {
     "metadata": {}
    }
   ],
   "source": [
    "# A string has many usful method, like `.upper` and '.lower'\n",
    "display(name.upper())\n",
    "display(name.lower())"
   ]
  },
  {
   "cell_type": "code",
   "execution_count": 261,
   "metadata": {},
   "outputs": [
    {
     "data": {
      "text/plain": [
       "'Barack Obama'"
      ]
     },
     "execution_count": 261,
     "output_type": "execute_result",
     "metadata": {}
    }
   ],
   "source": [
    "# Covert each word's first letter to upper case\n",
    "name.title()"
   ]
  },
  {
   "cell_type": "code",
   "execution_count": 262,
   "metadata": {},
   "outputs": [
    {
     "data": {
      "text/plain": [
       "'Michelle Obama'"
      ]
     },
     "execution_count": 262,
     "output_type": "execute_result",
     "metadata": {}
    }
   ],
   "source": [
    "# We can do simple replacements\n",
    "name.replace(\"Barack\",\"Michelle\")"
   ]
  },
  {
   "cell_type": "code",
   "execution_count": 263,
   "metadata": {},
   "outputs": [
    {
     "data": {
      "text/plain": [
       "['',\n",
       " 'And what is love? It is a doll dressed up',\n",
       " '   For idleness to cosset, nurse, and dandle;',\n",
       " 'A thing of soft misnomers, so divine',\n",
       " 'That silly youth doth think to make itself',\n",
       " 'Divine by loving, and so goes on',\n",
       " 'Yawning and doting a whole summer long,',\n",
       " \"Till Miss's comb is made a perfect tiara,\",\n",
       " 'And common Wellingtons turn Romeo boots;',\n",
       " 'Till Cleopatra lives at Number Seven,',\n",
       " 'And Antony resides in Brunswick Square.',\n",
       " '']"
      ]
     },
     "execution_count": 263,
     "output_type": "execute_result",
     "metadata": {}
    }
   ],
   "source": [
    "# We can split the string into a list of strings in some delimiter\n",
    "poem.split('\\n')"
   ]
  },
  {
   "cell_type": "code",
   "execution_count": 264,
   "metadata": {},
   "outputs": [
    {
     "name": "stdout",
     "output_type": "stream",
     "text": [
      "   For idleness to cosset, nurse, and dandle;\n",
      "A thing of soft misnomers, so divine\n"
     ]
    }
   ],
   "source": [
    "# We can combine this string operations to split the poem into lines, (2nd and 3ed only)\n",
    "# then iterate over the second and third line printing them out\n",
    "for line in poem.split('\\n')[2:4]:\n",
    "    print(line)"
   ]
  },
  {
   "cell_type": "code",
   "execution_count": 265,
   "metadata": {},
   "outputs": [
    {
     "data": {
      "text/plain": [
       "'For idleness to cosset, nurse, and dandle;'"
      ]
     },
     "execution_count": 265,
     "output_type": "execute_result",
     "metadata": {}
    }
   ],
   "source": [
    "# We can strip leading and trailing whitespace with '.strip'\n",
    "poem.split('\\n')[2].strip()"
   ]
  },
  {
   "cell_type": "code",
   "execution_count": 266,
   "metadata": {},
   "outputs": [
    {
     "data": {
      "text/plain": [
       "False"
      ]
     },
     "execution_count": 266,
     "output_type": "execute_result",
     "metadata": {}
    }
   ],
   "source": [
    "# We can see if a character is in the string\n",
    "'ob' in name"
   ]
  },
  {
   "cell_type": "code",
   "execution_count": 267,
   "metadata": {},
   "outputs": [
    {
     "data": {
      "text/plain": [
       "True"
      ]
     },
     "execution_count": 267,
     "output_type": "execute_result",
     "metadata": {}
    }
   ],
   "source": [
    "# We can see if a character is in the string\n",
    "'Ob' in name"
   ]
  },
  {
   "cell_type": "code",
   "execution_count": 268,
   "metadata": {},
   "outputs": [
    {
     "data": {
      "text/plain": [
       "'Hello@World'"
      ]
     },
     "execution_count": 268,
     "output_type": "execute_result",
     "metadata": {}
    }
   ],
   "source": [
    "# Join strings\n",
    "'@'.join(['Hello','World'])"
   ]
  },
  {
   "cell_type": "markdown",
   "metadata": {},
   "source": [
    "## Lists"
   ]
  },
  {
   "cell_type": "code",
   "execution_count": 269,
   "metadata": {},
   "outputs": [
    {
     "metadata": {}
    },
    {
     "metadata": {}
    }
   ],
   "source": [
    "display([2,3,4])\n",
    "display([2,3,4,]) # the same thing"
   ]
  },
  {
   "cell_type": "code",
   "execution_count": 270,
   "metadata": {},
   "outputs": [],
   "source": [
    "# List in multiple lines\n",
    "primes = [\n",
    "    2,\n",
    "    3,\n",
    "    5,\n",
    "    7,\n",
    "    11,\n",
    "    13\n",
    "]\n",
    "# List of lists\n",
    "prime_factors = [\n",
    "    [2],    # 2\n",
    "    [3],    # 3\n",
    "    [2],    # 4\n",
    "    [5],    # 5\n",
    "    [2,3],  # 6\n",
    "    [7],    # 7\n",
    "    [2],    # 8\n",
    "    [3],    # 9\n",
    "    [2,5],  # 10\n",
    "    [11],   # 11\n",
    "    [2,3],  # 12\n",
    "    [13]    # 13\n",
    "]"
   ]
  },
  {
   "cell_type": "code",
   "execution_count": 271,
   "metadata": {},
   "outputs": [
    {
     "name": "stdout",
     "output_type": "stream",
     "text": [
      "[[2], [3], [2], [5], [2, 3], [7], [2]]\n",
      "13\n"
     ]
    }
   ],
   "source": [
    "len(prime_factors)\n",
    "print(prime_factors[0:7])\n",
    "print(primes[-1])"
   ]
  },
  {
   "cell_type": "code",
   "execution_count": 272,
   "metadata": {},
   "outputs": [
    {
     "name": "stdout",
     "output_type": "stream",
     "text": [
      "True\n",
      "False\n"
     ]
    }
   ],
   "source": [
    "# We can also check for inclusion\n",
    "print(3 in primes)\n",
    "print(4 in primes)"
   ]
  },
  {
   "cell_type": "code",
   "execution_count": 273,
   "metadata": {},
   "outputs": [
    {
     "name": "stdout",
     "output_type": "stream",
     "text": [
      "[2]\n",
      "\t 2\n",
      "[3]\n",
      "\t 3\n",
      "[2]\n",
      "\t 2\n",
      "[5]\n",
      "\t 5\n",
      "[2, 3]\n",
      "\t 2\n",
      "\t 3\n",
      "[7]\n",
      "\t 7\n",
      "[2]\n",
      "\t 2\n",
      "[3]\n",
      "\t 3\n",
      "[2, 5]\n",
      "\t 2\n",
      "\t 5\n",
      "[11]\n",
      "\t 11\n",
      "[2, 3]\n",
      "\t 2\n",
      "\t 3\n",
      "[13]\n",
      "\t 13\n"
     ]
    }
   ],
   "source": [
    "# We can iterate\n",
    "for factors in prime_factors:\n",
    "    print(factors)\n",
    "    for factor in factors:\n",
    "        print('\\t',factor)"
   ]
  },
  {
   "cell_type": "code",
   "execution_count": 274,
   "metadata": {},
   "outputs": [
    {
     "metadata": {}
    },
    {
     "metadata": {}
    }
   ],
   "source": [
    "## Add and remove elements from a list\n",
    "primes += [18]\n",
    "display(primes)\n",
    "\n",
    "del primes[-1]\n",
    "display(primes)"
   ]
  },
  {
   "cell_type": "markdown",
   "metadata": {},
   "source": [
    "# Python Basics: control flow (if, while, for)"
   ]
  },
  {
   "cell_type": "markdown",
   "metadata": {},
   "source": [
    "## if statement"
   ]
  },
  {
   "cell_type": "code",
   "execution_count": 275,
   "metadata": {},
   "outputs": [
    {
     "name": "stdout",
     "output_type": "stream",
     "text": [
      "It's true ehat they say about Dixie!\n"
     ]
    }
   ],
   "source": [
    "if 10>2:\n",
    "    print(\"It's true ehat they say about Dixie!\")"
   ]
  },
  {
   "cell_type": "code",
   "execution_count": 276,
   "metadata": {},
   "outputs": [
    {
     "name": "stdout",
     "output_type": "stream",
     "text": [
      "What's new, pussycat, Whoooooaaa whoooa whooooaa\n"
     ]
    }
   ],
   "source": [
    "unusual = True\n",
    "if not unusual:\n",
    "    print(\"It's not unusual to be loved by you!\")\n",
    "else:\n",
    "    print(\"What's new, pussycat, Whoooooaaa whoooa whooooaa\")"
   ]
  },
  {
   "cell_type": "code",
   "execution_count": 277,
   "metadata": {},
   "outputs": [
    {
     "name": "stdout",
     "output_type": "stream",
     "text": [
      "One is the lonliest number that you'll ever do...\n"
     ]
    }
   ],
   "source": [
    "dog_nights = 3\n",
    "if dog_nights == 3:\n",
    "    print(\"One is the lonliest number that you'll ever do...\")\n",
    "    \n",
    "elif dog_nights == 2:\n",
    "    print(\"Mama told me not to come home.\")\n",
    "        \n",
    "else:\n",
    "    print(\"Jeremiah was a bull-frog\")"
   ]
  },
  {
   "cell_type": "markdown",
   "metadata": {},
   "source": [
    "## while loops"
   ]
  },
  {
   "cell_type": "code",
   "execution_count": 278,
   "metadata": {},
   "outputs": [
    {
     "name": "stdout",
     "output_type": "stream",
     "text": [
      "10 bottles of beer on the wall.\n",
      "9 bottles of beer on the wall.\n",
      "8 bottles of beer on the wall.\n",
      "7 bottles of beer on the wall.\n",
      "6 bottles of beer on the wall.\n",
      "5 bottles of beer on the wall.\n",
      "4 bottles of beer on the wall.\n",
      "3 bottles of beer on the wall.\n",
      "2 bottles of beer on the wall.\n",
      "1 bottles of beer on the wall.\n"
     ]
    }
   ],
   "source": [
    "bottles_of_beer = 10\n",
    "while bottles_of_beer > 0:\n",
    "    print(bottles_of_beer, 'bottles of beer on the wall.')\n",
    "    bottles_of_beer -=1"
   ]
  },
  {
   "cell_type": "code",
   "execution_count": 279,
   "metadata": {},
   "outputs": [
    {
     "name": "stdout",
     "output_type": "stream",
     "text": [
      "Don't know much about ['history', 'biology', 'geography', 'science books']\n",
      "Don't know much about ['history', 'biology', 'geography']\n",
      "Don't know much about ['history', 'biology']\n",
      "Don't know much about ['history']\n"
     ]
    }
   ],
   "source": [
    "# a list or string is considered 'True' if it has items\n",
    "subjects = ['history', 'biology', 'geography', 'science books']\n",
    "\n",
    "while subjects:\n",
    "    print(\"Don't know much about\", subjects)\n",
    "    del subjects[-1]"
   ]
  },
  {
   "cell_type": "markdown",
   "metadata": {},
   "source": [
    "## for loops"
   ]
  },
  {
   "cell_type": "code",
   "execution_count": 280,
   "metadata": {},
   "outputs": [
    {
     "name": "stdout",
     "output_type": "stream",
     "text": [
      "Don't know much about history\n",
      "Don't know much about biology\n",
      "Don't know much about geography\n",
      "Don't know much about science books\n"
     ]
    }
   ],
   "source": [
    "subjects = ['history', 'biology', 'geography', 'science books']\n",
    "\n",
    "for subject in subjects:\n",
    "    print(\"Don't know much about\", subject)"
   ]
  },
  {
   "cell_type": "markdown",
   "metadata": {},
   "source": [
    "# Python Basics: simple functions"
   ]
  },
  {
   "cell_type": "code",
   "execution_count": 281,
   "metadata": {},
   "outputs": [
    {
     "data": {
      "text/plain": [
       "20"
      ]
     },
     "execution_count": 281,
     "output_type": "execute_result",
     "metadata": {}
    }
   ],
   "source": [
    "# a function is a block of code that we can reuse\n",
    "# it takes inputs from which it calculates a return value\n",
    "def double(x):\n",
    "    return x * 2\n",
    "\n",
    "double(10)"
   ]
  },
  {
   "cell_type": "code",
   "execution_count": 282,
   "metadata": {},
   "outputs": [],
   "source": [
    "## Quadratic formula"
   ]
  },
  {
   "cell_type": "markdown",
   "metadata": {},
   "source": [
    "$$\n",
    "x=\\frac{-b\\pm\\sqrt{b^2-4ac\\ }}{2a}\n",
    "$$"
   ]
  },
  {
   "cell_type": "code",
   "execution_count": 283,
   "metadata": {},
   "outputs": [],
   "source": [
    "from math import sqrt"
   ]
  },
  {
   "cell_type": "code",
   "execution_count": 284,
   "metadata": {},
   "outputs": [
    {
     "name": "stdout",
     "output_type": "stream",
     "text": [
      "[2.0, 1.0]\n"
     ]
    }
   ],
   "source": [
    "# Real number version\n",
    "def quadratic(a, b, c):\n",
    "    return([(-b + sqrt(b**2 - 4*a*c))/(2*a),\n",
    "            (-b - sqrt(b**2 - 4*a*c))/(2*a)])\n",
    "\n",
    "# (x-1)(x-2) = x**2 - 3x + 2\n",
    "print(quadratic(1,-3,2))"
   ]
  },
  {
   "cell_type": "code",
   "execution_count": 285,
   "metadata": {},
   "outputs": [
    {
     "name": "stdout",
     "output_type": "stream",
     "text": [
      "[2.0, 1.0]\n",
      "[-3.79128784747792, 0.7912878474779199]\n"
     ]
    }
   ],
   "source": [
    "# With response for complex numbers version\n",
    "def quadratic(a, b, c):\n",
    "    x = b**2 - 4*a*c # discriminant\n",
    "    y = 2*a\n",
    "    if x < 0:\n",
    "        return([])\n",
    "    return([(-b + sqrt(x))/y,\n",
    "            (-b - sqrt(x))/y])\n",
    "\n",
    "# (x-1)(x-2) = x**2 - 3x + 2\n",
    "print(quadratic(1,-3,2))\n",
    "\n",
    "# x**2 -3x + 3\n",
    "print(quadratic(-1,-3,3))"
   ]
  },
  {
   "cell_type": "markdown",
   "metadata": {},
   "source": [
    "# Python Basics: importing from modules"
   ]
  },
  {
   "cell_type": "code",
   "execution_count": 286,
   "metadata": {},
   "outputs": [
    {
     "name": "stdout",
     "output_type": "stream",
     "text": [
      "sqrt(4) = 2.0\n",
      "sqrt(4) = 2.0\n"
     ]
    }
   ],
   "source": [
    "# direct import\n",
    "from math import sqrt, sin,  pi\n",
    "print('sqrt(4) =', sqrt(4))\n",
    "\n",
    "# module import\n",
    "import math\n",
    "print('sqrt(4) =', math.sqrt(4))"
   ]
  },
  {
   "cell_type": "markdown",
   "metadata": {},
   "source": [
    "# Python Basics: random module, string module"
   ]
  },
  {
   "cell_type": "code",
   "execution_count": 287,
   "metadata": {},
   "outputs": [
    {
     "name": "stdout",
     "output_type": "stream",
     "text": [
      "Ace of Spades\n",
      "Two of Spades\n",
      "Three of Spades\n",
      "Four of Spades\n",
      "Five of Spades\n",
      "Your hand: ['Six of Diamonds', 'Seven of Clubs', 'Five of Spades', 'Four of Clubs', 'Ace of Clubs']\n"
     ]
    }
   ],
   "source": [
    "from random import shuffle\n",
    "\n",
    "values = ['Ace','Two','Three','Four','Five','Six','Seven','Eight','Nine','Ten','Jack','Queen','King']\n",
    "suits  = ['Spades','Clubs','Hearts','Diamonds']\n",
    "\n",
    "cards = []\n",
    "for suit in suits:\n",
    "    for value in values:\n",
    "        cards += [value + ' of ' + suit]\n",
    "        \n",
    "for card in cards[:5]: # same as: for card in cards[0:5]\n",
    "    print(card)\n",
    "print\n",
    "\n",
    "hand = []\n",
    "shuffle(cards)\n",
    "for card in cards[:5]:\n",
    "    hand += [card]\n",
    "    \n",
    "print(\"Your hand:\", hand)"
   ]
  },
  {
   "cell_type": "code",
   "execution_count": 288,
   "metadata": {},
   "outputs": [
    {
     "name": "stdout",
     "output_type": "stream",
     "text": [
      "abcdefghijklmnopqrstuvwxyz\n",
      "ABCDEFGHIJKLMNOPQRSTUVWXYZ\n",
      "0123456789\n",
      "!\"#$%&'()*+,-./:;<=>?@[\\]^_`{|}~\n"
     ]
    }
   ],
   "source": [
    "from string import ascii_lowercase, ascii_uppercase, digits, punctuation\n",
    "\n",
    "print(ascii_lowercase)\n",
    "print(ascii_uppercase)\n",
    "print(digits)\n",
    "print(punctuation)"
   ]
  },
  {
   "cell_type": "markdown",
   "metadata": {},
   "source": [
    "# Project: writing `valid()`"
   ]
  },
  {
   "cell_type": "code",
   "execution_count": 289,
   "metadata": {},
   "outputs": [
    {
     "name": "stdout",
     "output_type": "stream",
     "text": [
      "False\n",
      "True\n"
     ]
    }
   ],
   "source": [
    "def valid(password):\n",
    "    if len(password) != 8:\n",
    "        return False\n",
    "    return True\n",
    "\n",
    "print(valid('Pa$word'))\n",
    "print(valid('Pa$sword'))"
   ]
  },
  {
   "cell_type": "code",
   "execution_count": 290,
   "metadata": {},
   "outputs": [
    {
     "name": "stdout",
     "output_type": "stream",
     "text": [
      "False\n",
      "True\n"
     ]
    }
   ],
   "source": [
    "from string import ascii_uppercase\n",
    "\n",
    "def valid(password):\n",
    "    if len(password) != 8:\n",
    "        return False\n",
    "    \n",
    "    has_uppercase = False\n",
    "    for c in ascii_uppercase:\n",
    "        if c in password:\n",
    "            has_uppercase = True\n",
    "            \n",
    "    return has_uppercase\n",
    "\n",
    "print(valid('pas$word'))\n",
    "print(valid('Pas$word'))"
   ]
  },
  {
   "cell_type": "code",
   "execution_count": 291,
   "metadata": {},
   "outputs": [
    {
     "name": "stdout",
     "output_type": "stream",
     "text": [
      "False\n",
      "True\n"
     ]
    }
   ],
   "source": [
    "from string import ascii_lowercase, ascii_uppercase, digits, punctuation\n",
    "\n",
    "def valid(password):\n",
    "    if len(password) != 8:\n",
    "        return False\n",
    "    \n",
    "    has_uppercase = False\n",
    "    for c in ascii_uppercase:\n",
    "        if c in password:\n",
    "            has_uppercase = True\n",
    "    \n",
    "    has_lowercase = False\n",
    "    for c in ascii_lowercase:\n",
    "        if c in password:\n",
    "            has_lowercase = True\n",
    "            \n",
    "    has_digit = False\n",
    "    for c in digits:\n",
    "        if c in password:\n",
    "            has_digit = True\n",
    "    \n",
    "    has_punct = False\n",
    "    for c in punctuation:\n",
    "        if c in password:\n",
    "            has_punct = True\n",
    "            \n",
    "    return has_uppercase & has_lowercase & has_digit & has_punct\n",
    "\n",
    "print(valid('pas$word'))\n",
    "print(valid('Pas$w0rd'))"
   ]
  },
  {
   "cell_type": "markdown",
   "metadata": {},
   "source": [
    "# Project: writing random_string()"
   ]
  },
  {
   "cell_type": "code",
   "execution_count": 292,
   "metadata": {},
   "outputs": [],
   "source": [
    "import random\n",
    "from string import ascii_lowercase, ascii_uppercase, digits, punctuation\n",
    "\n",
    "all_symbols = ascii_lowercase + ascii_uppercase + digits + punctuation\n",
    "\n",
    "def random_string():\n",
    "    chars = []\n",
    "    for _ in range(8):\n",
    "        symbol = random.choice(all_symbols)\n",
    "        chars.append(symbol)\n",
    "    password = ''.join(chars)\n",
    "    return password"
   ]
  },
  {
   "cell_type": "code",
   "execution_count": 293,
   "metadata": {},
   "outputs": [
    {
     "data": {
      "text/plain": [
       "'ttfcne+#'"
      ]
     },
     "execution_count": 293,
     "output_type": "execute_result",
     "metadata": {}
    }
   ],
   "source": [
    "random_string()"
   ]
  },
  {
   "cell_type": "markdown",
   "metadata": {},
   "source": [
    "# Project: writing `make_password()`, \"stochastic\"/\"non-deterministic\" approach"
   ]
  },
  {
   "cell_type": "code",
   "execution_count": 294,
   "metadata": {},
   "outputs": [],
   "source": [
    "def make_password():\n",
    "    password = ''\n",
    "    while not valid(password):\n",
    "        password = random_string()\n",
    "    return password"
   ]
  },
  {
   "cell_type": "code",
   "execution_count": 295,
   "metadata": {},
   "outputs": [
    {
     "name": "stdout",
     "output_type": "stream",
     "text": [
      "Your password is: PP`[0Jx\\\n"
     ]
    }
   ],
   "source": [
    "pw = make_password()\n",
    "assert valid(pw) # the program test that condition, and trigger an error if the condition is false.\n",
    "print('Your password is:', pw)"
   ]
  },
  {
   "cell_type": "markdown",
   "metadata": {},
   "source": [
    "# Project: writing `make_password2()`, \"combinatoric\"/\"deterministic\" approach"
   ]
  },
  {
   "cell_type": "code",
   "execution_count": 296,
   "metadata": {},
   "outputs": [],
   "source": [
    "import random\n",
    "from string import ascii_lowercase, ascii_uppercase, digits, punctuation\n",
    "\n",
    "all_symbols = ascii_lowercase + ascii_uppercase + digits + punctuation\n",
    "\n",
    "def make_password2():\n",
    "    chars = []\n",
    "    chars.append(random.choice(ascii_uppercase))\n",
    "    chars.append(random.choice(ascii_lowercase))\n",
    "    chars.append(random.choice(digits))\n",
    "    chars.append(random.choice(punctuation))\n",
    "    for _ in range(4):\n",
    "        chars.append(random.choice(all_symbols))\n",
    "    random.shuffle(chars)\n",
    "    password = \"\".join(chars)\n",
    "    return(password)"
   ]
  },
  {
   "cell_type": "code",
   "execution_count": 297,
   "metadata": {},
   "outputs": [
    {
     "name": "stdout",
     "output_type": "stream",
     "text": [
      "Your password is: oX1&.w2#\n"
     ]
    }
   ],
   "source": [
    "pw = make_password2()\n",
    "assert valid(pw) # the program test that condition, and trigger an error if the condition is false.\n",
    "print('Your password is:', pw)"
   ]
  },
  {
   "cell_type": "markdown",
   "metadata": {},
   "source": [
    "# Project: advanced topics"
   ]
  },
  {
   "cell_type": "code",
   "execution_count": 298,
   "metadata": {},
   "outputs": [
    {
     "name": "stdout",
     "output_type": "stream",
     "text": [
      "{'Jim', 'Jimbo', 'James'}\n",
      "{8, 1, 2, 16, 4}\n"
     ]
    }
   ],
   "source": [
    "names = set(['James','Jim',\"Jimbo\"])\n",
    "print(names)\n",
    "\n",
    "numbers = set([1,2,4,8,8,16]) # unordered collection of unique values\n",
    "print(numbers)"
   ]
  },
  {
   "cell_type": "code",
   "execution_count": 299,
   "metadata": {},
   "outputs": [
    {
     "name": "stdout",
     "output_type": "stream",
     "text": [
      "{1, 2, 3, 4, 6, 8, 9, 12, 15}\n",
      "{1, 12, 6}\n",
      "{2, 3, 4, 8, 9, 15}\n"
     ]
    }
   ],
   "source": [
    "# set union\n",
    "set_and = set([1,2,4,6,8,12]) | set([1,3,6,9,12,15])\n",
    "print(set_and)\n",
    "\n",
    "# set intersection\n",
    "set_or = set([1,2,4,6,8,12]) & set([1,3,6,9,12,15])\n",
    "print(set_or)\n",
    "\n",
    "# set xor\n",
    "set_xor = set([1,2,4,6,8,12]) ^ set([1,3,6,9,12,15])\n",
    "print(set_xor)"
   ]
  },
  {
   "cell_type": "code",
   "execution_count": 300,
   "metadata": {},
   "outputs": [],
   "source": [
    "# Better valid function\n",
    "from string import ascii_uppercase, ascii_lowercase, digits, punctuation\n",
    "\n",
    "def valid(password):\n",
    "    has_uppercase   = set(ascii_uppercase) & set(password)\n",
    "    has_lowercase   = set(ascii_lowercase) & set(password)\n",
    "    has_digit       = set(digits) & set(password)\n",
    "    has_punctuation = set(punctuation) & set(password)\n",
    "    return(len(password)==8 and has_uppercase and has_lowercase and has_digit and has_punctuation)"
   ]
  },
  {
   "cell_type": "code",
   "execution_count": null,
   "metadata": {},
   "outputs": [],
   "source": [
    ""
   ]
  }
 ],
 "metadata": {
  "kernelspec": {
   "display_name": "Python 3",
   "language": "python",
   "name": "python3"
  },
  "language_info": {
   "codemirror_mode": {
    "name": "ipython",
    "version": 3.0
   },
   "file_extension": ".py",
   "mimetype": "text/x-python",
   "name": "python",
   "nbconvert_exporter": "python",
   "pygments_lexer": "ipython3",
   "version": "3.4.3"
  }
 },
 "nbformat": 4,
 "nbformat_minor": 0
}